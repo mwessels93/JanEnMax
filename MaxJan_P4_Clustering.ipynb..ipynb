{
 "cells": [
  {
   "cell_type": "code",
   "execution_count": 31,
   "metadata": {
    "collapsed": false
   },
   "outputs": [
    {
     "data": {
      "text/plain": [
       "['Tf', 'E', 'Pf', 'Ts', 'Ps']"
      ]
     },
     "execution_count": 31,
     "metadata": {},
     "output_type": "execute_result"
    }
   ],
   "source": [
    "import numpy as np\n",
    "import os\n",
    "npzfilename=os.path.join('/home/max/host/P5-Clustering/GygiAnalysis/axe','rawFeatures.npz')\n",
    "dataraw= np.load(npzfilename) \n",
    "dataraw=dataraw['arr_0'].item()\n",
    "dataraw.keys()\n",
    "#print(dataraw)"
   ]
  },
  {
   "cell_type": "code",
   "execution_count": 32,
   "metadata": {
    "collapsed": false
   },
   "outputs": [
    {
     "name": "stdout",
     "output_type": "stream",
     "text": [
      "Using matplotlib backend: Qt4Agg\n",
      "Populating the interactive namespace from numpy and matplotlib\n"
     ]
    }
   ],
   "source": [
    "%pylab "
   ]
  },
  {
   "cell_type": "code",
   "execution_count": 37,
   "metadata": {
    "collapsed": false
   },
   "outputs": [],
   "source": [
    "f=plt.figure(figsize=(16,6,))\n",
    "ax = f.add_subplot(1,1,1)\n",
    "ax.imshow(dataraw['Ts'], interpolation='nearest',aspect='auto')\n",
    "plt.show()"
   ]
  },
  {
   "cell_type": "code",
   "execution_count": 34,
   "metadata": {
    "collapsed": false
   },
   "outputs": [],
   "source": [
    "npzfilename=os.path.join('/home/max/host/P5-Clustering/GygiAnalysis/AnalysisOfGygiDataset.npz')\n",
    "PTNdata= np.load(npzfilename) \n",
    "PTNdata=PTNdata['arr_0'].item()\n",
    "#PTNdata.keys()"
   ]
  },
  {
   "cell_type": "code",
   "execution_count": 68,
   "metadata": {
    "collapsed": false
   },
   "outputs": [
    {
     "name": "stdout",
     "output_type": "stream",
     "text": [
      "{'r': [0, 1, 14, 15, 16, 17, 24, 25, 26, 27, 32, 33, 38, 39, 58, 59, 60, 61, 66, 67, 68, 69, 72, 73, 78, 79, 80, 81, 82, 83, 84, 85, 88, 89, 92, 93, 96, 97, 98, 99], 'b': [4, 5, 8, 9, 10, 11, 18, 19, 28, 29, 46, 47, 50, 51, 56, 57, 62, 63, 70, 71, 74, 75, 76, 77, 86, 87, 94, 95], 'g': [2, 3, 6, 7, 12, 13, 20, 21, 22, 23, 30, 31, 34, 35, 36, 37, 40, 41, 42, 43, 44, 45, 48, 49, 52, 53, 54, 55, 64, 65, 90, 91]}\n"
     ]
    }
   ],
   "source": [
    "from mpl_toolkits.mplot3d import Axes3D\n",
    "fig = plt.figure()\n",
    "ax = fig.add_subplot(111, projection='3d')\n",
    "\n",
    "zdirs = (None, 'x', 'y', 'z', (1, 1, 0), (1, 1, 1))\n",
    "xs=PTNdata['P_logsumE_off_FS']\n",
    "ys=PTNdata['T_logsumE_off_FS']\n",
    "zs=PTNdata['N_logsumE_off_FS']\n",
    "#ax.plot(xs, ys,'.' )\n",
    "#print(PTNdata)\n",
    "print(PTNdata['typecolors'])\n",
    "\n",
    "\n",
    "for typecolor, typemarker  in [('r','o'),('g','^'),('b','s')]:\n",
    "    typerange=PTNdata['typecolors'][typecolor]\n",
    "    ax.scatter( xs[typerange],ys[typerange],zs[typerange], c=typecolor, marker=typemarker,s=48)\n",
    "\n",
    "#ax.text(9, 0, 0, \"red\", color='red')\n",
    "ax.set_title('3D representation of PTN values of Gigydata')\n",
    " \n",
    "    \n",
    "ax.set_xlabel('Pulse ')\n",
    "ax.set_ylabel('Tone ')\n",
    "ax.set_zlabel('Noise ')\n",
    "plt.show()\n",
    "\n",
    "\n",
    "\n"
   ]
  },
  {
   "cell_type": "markdown",
   "metadata": {},
   "source": [
    "    This was most beautifull 3d plot in da world"
   ]
  },
  {
   "cell_type": "code",
   "execution_count": 69,
   "metadata": {
    "collapsed": false
   },
   "outputs": [],
   "source": [
    "f, (ax1, ax2, ax3) = plt.subplots(3, sharey=True)\n",
    "\n",
    "ax1.hist(xs, color = 'g')\n",
    "ax1.set_title('Occurences of pulse amplitudes')\n",
    "ax1.set_xlabel('pulse ')\n",
    "ax1.set_ylabel('Occurrences ')\n",
    "\n",
    "ax2.hist(ys, color = 'b')\n",
    "ax2.set_xlabel('Tone')\n",
    "ax2.set_ylabel('Occurences')\n",
    "\n",
    "ax3.hist(zs, color = 'r')\n",
    "ax3.set_xlabel('Noise')\n",
    "ax3.set_ylabel('Occurrences')\n",
    "              \n",
    "f.show()\n",
    "\n"
   ]
  },
  {
   "cell_type": "code",
   "execution_count": null,
   "metadata": {
    "collapsed": true
   },
   "outputs": [],
   "source": []
  }
 ],
 "metadata": {
  "kernelspec": {
   "display_name": "Python [Root]",
   "language": "python",
   "name": "Python [Root]"
  },
  "language_info": {
   "codemirror_mode": {
    "name": "ipython",
    "version": 2
   },
   "file_extension": ".py",
   "mimetype": "text/x-python",
   "name": "python",
   "nbconvert_exporter": "python",
   "pygments_lexer": "ipython2",
   "version": "2.7.12"
  }
 },
 "nbformat": 4,
 "nbformat_minor": 0
}
