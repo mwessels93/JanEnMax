{
 "cells": [
  {
   "cell_type": "code",
   "execution_count": 1,
   "metadata": {
    "collapsed": false
   },
   "outputs": [
    {
     "data": {
      "text/plain": [
       "['Tf', 'E', 'Pf', 'Ts', 'Ps']"
      ]
     },
     "execution_count": 1,
     "metadata": {},
     "output_type": "execute_result"
    }
   ],
   "source": [
    "import numpy as np\n",
    "import os\n",
    "npzfilename=os.path.join('/home/max/host/P5-Clustering/GygiAnalysis/axe','rawFeatures.npz')\n",
    "dataraw= np.load(npzfilename) \n",
    "dataraw=dataraw['arr_0'].item()\n",
    "dataraw.keys()\n",
    "#print(dataraw)"
   ]
  },
  {
   "cell_type": "code",
   "execution_count": 2,
   "metadata": {
    "collapsed": false
   },
   "outputs": [
    {
     "name": "stdout",
     "output_type": "stream",
     "text": [
      "Using matplotlib backend: Qt4Agg\n",
      "Populating the interactive namespace from numpy and matplotlib\n"
     ]
    }
   ],
   "source": [
    "%pylab "
   ]
  },
  {
   "cell_type": "code",
   "execution_count": 3,
   "metadata": {
    "collapsed": false
   },
   "outputs": [],
   "source": [
    "f=plt.figure(figsize=(16,6,))\n",
    "ax = f.add_subplot(1,1,1)\n",
    "ax.imshow(dataraw['Ts'], interpolation='nearest',aspect='auto')\n",
    "plt.show()"
   ]
  },
  {
   "cell_type": "code",
   "execution_count": 4,
   "metadata": {
    "collapsed": false
   },
   "outputs": [],
   "source": [
    "npzfilename=os.path.join('/home/max/host/P5-Clustering/GygiAnalysis/AnalysisOfGygiDataset.npz')\n",
    "PTNdata= np.load(npzfilename) \n",
    "PTNdata=PTNdata['arr_0'].item()\n",
    "#PTNdata.keys()"
   ]
  },
  {
   "cell_type": "code",
   "execution_count": 5,
   "metadata": {
    "collapsed": false
   },
   "outputs": [
    {
     "name": "stdout",
     "output_type": "stream",
     "text": [
      "{'r': [0, 1, 14, 15, 16, 17, 24, 25, 26, 27, 32, 33, 38, 39, 58, 59, 60, 61, 66, 67, 68, 69, 72, 73, 78, 79, 80, 81, 82, 83, 84, 85, 88, 89, 92, 93, 96, 97, 98, 99], 'b': [4, 5, 8, 9, 10, 11, 18, 19, 28, 29, 46, 47, 50, 51, 56, 57, 62, 63, 70, 71, 74, 75, 76, 77, 86, 87, 94, 95], 'g': [2, 3, 6, 7, 12, 13, 20, 21, 22, 23, 30, 31, 34, 35, 36, 37, 40, 41, 42, 43, 44, 45, 48, 49, 52, 53, 54, 55, 64, 65, 90, 91]}\n"
     ]
    }
   ],
   "source": [
    "from mpl_toolkits.mplot3d import Axes3D\n",
    "fig = plt.figure()\n",
    "ax = fig.add_subplot(111, projection='3d')\n",
    "\n",
    "zdirs = (None, 'x', 'y', 'z', (1, 1, 0), (1, 1, 1))\n",
    "xs=PTNdata['P_logsumE_off_FS']\n",
    "ys=PTNdata['T_logsumE_off_FS']\n",
    "zs=PTNdata['N_logsumE_off_FS']\n",
    "#ax.plot(xs, ys,'.' )\n",
    "#print(PTNdata)\n",
    "print(PTNdata['typecolors'])\n",
    "\n",
    "\n",
    "for typecolor, typemarker  in [('r','o'),('g','^'),('b','s')]:\n",
    "    typerange=PTNdata['typecolors'][typecolor]\n",
    "    ax.scatter( xs[typerange],ys[typerange],zs[typerange], c=typecolor, marker=typemarker,s=48)\n",
    "\n",
    "#ax.text(9, 0, 0, \"red\", color='red')\n",
    "ax.set_title('3D representation of PTN values of Gigydata')\n",
    " \n",
    "    \n",
    "ax.set_xlabel('Pulse ')\n",
    "ax.set_ylabel('Tone ')\n",
    "ax.set_zlabel('Noise ')\n",
    "plt.show()\n",
    "\n",
    "\n",
    "\n"
   ]
  },
  {
   "cell_type": "markdown",
   "metadata": {},
   "source": [
    "    This was most beautifull 3d plot in da world"
   ]
  },
  {
   "cell_type": "code",
   "execution_count": 6,
   "metadata": {
    "collapsed": false
   },
   "outputs": [],
   "source": [
    "f, (ax1, ax2, ax3) = plt.subplots(3, sharey=True)\n",
    "\n",
    "ax1.hist(xs, color = 'g')\n",
    "ax1.set_title('Occurences of pulse amplitudes')\n",
    "ax1.set_xlabel('pulse ')\n",
    "ax1.set_ylabel('Occurrences ')\n",
    "\n",
    "ax2.hist(ys, color = 'b')\n",
    "ax2.set_xlabel('Tone')\n",
    "ax2.set_ylabel('Occurences')\n",
    "\n",
    "ax3.hist(zs, color = 'r')\n",
    "ax3.set_xlabel('Noise')\n",
    "ax3.set_ylabel('Occurrences')\n",
    "              \n",
    "f.show()\n",
    "\n"
   ]
  },
  {
   "cell_type": "code",
   "execution_count": null,
   "metadata": {
    "collapsed": true
   },
   "outputs": [],
   "source": []
  },
  {
   "cell_type": "code",
   "execution_count": 38,
   "metadata": {
    "collapsed": false,
    "scrolled": true
   },
   "outputs": [
    {
     "name": "stdout",
     "output_type": "stream",
     "text": [
      "[-1.05689043 -1.01144919 -0.58189356 -0.70400384 -1.6516764  -0.7750966\n",
      " -1.67766403 -0.50511591 -1.83633018 -2.31465085 -1.28434434 -1.71958484\n",
      " -1.58572406 -1.93576181 -1.29476615 -1.0540167  -0.72074288 -1.09427524]\n",
      "[-3.33862894 -3.52661737 -3.87268037 -4.49835635 -3.4365547  -5.20207585\n",
      " -2.31523702 -7.18038161 -3.46925254 -3.27332316 -2.81917595 -3.14907722\n",
      " -3.16430897 -3.04761929 -3.49379081 -3.84044419 -3.37717145 -2.49887556]\n"
     ]
    }
   ],
   "source": [
    "from sklearn.metrics.pairwise import pairwise_distances\n",
    "import numpy as np\n",
    "\n",
    "import kmedoids\n",
    "\n",
    "#print(xs)\n",
    "#print(ys)\n",
    "\n",
    "data = np.array([xs,ys]).T\n",
    "\n",
    "#print(data)\n",
    "\n",
    "# distance matrix\n",
    "D = pairwise_distances(data, metric='manhattan')\n",
    "\n",
    "# split into 2 clusters\n",
    "M, C = kmedoids.kMedoids(D, 3)\n",
    "\n",
    "# print('medoids:')\n",
    "# for point_idx in M:\n",
    "#     print( data[point_idx] )\n",
    "\n",
    "\n",
    "\n",
    "# print('')\n",
    "# print('clustering result:')\n",
    "# for label in C:\n",
    "#     for point_idx in C[label]:\n",
    "#         print('label {0}:　{1}'.format(label, data[point_idx]))\n",
    "# #         printMatrix = \n",
    "# print(C)\n",
    "\n",
    "# cluster1 = data[C[0]]\n",
    "# print(cluster1)\n",
    "print(cluster1[:,0])\n",
    "print(cluster1[:,1])\n",
    "\n",
    "    \n",
    "fig = plt.figure()\n",
    "ax1 = fig.add_subplot(111)\n",
    "\n",
    "ax1.scatter(cluster1[:,0],cluster1[:,1], c='b', marker=\"s\", label='first')\n",
    "# ax1.scatter(x[40:],y[40:], s=10, c='r', marker=\"o\", label='second')\n",
    "plt.legend(loc='upper left');\n",
    "plt.show()\n"
   ]
  },
  {
   "cell_type": "code",
   "execution_count": null,
   "metadata": {
    "collapsed": false
   },
   "outputs": [],
   "source": []
  }
 ],
 "metadata": {
  "kernelspec": {
   "display_name": "Python [Root]",
   "language": "python",
   "name": "Python [Root]"
  },
  "language_info": {
   "codemirror_mode": {
    "name": "ipython",
    "version": 2
   },
   "file_extension": ".py",
   "mimetype": "text/x-python",
   "name": "python",
   "nbconvert_exporter": "python",
   "pygments_lexer": "ipython2",
   "version": "2.7.12"
  }
 },
 "nbformat": 4,
 "nbformat_minor": 0
}
