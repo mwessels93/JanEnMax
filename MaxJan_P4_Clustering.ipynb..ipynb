{
 "cells": [
  {
   "cell_type": "code",
   "execution_count": 1,
   "metadata": {
    "collapsed": false,
    "scrolled": true
   },
   "outputs": [],
   "source": [
    "import numpy as np\n",
    "import os\n",
    "from mpl_toolkits.mplot3d import Axes3D\n",
    "from matplotlib import pyplot as plt\n",
    "\n",
    "# Import the data from the Gigydata folder\n",
    "npzfilename=os.path.join('/home/max/data/GygiAnalysis/AnalysisOfGygiDataset.npz')\n",
    "PTNdata= np.load(npzfilename) \n",
    "PTNdata=PTNdata['arr_0'].item()\n",
    "\n",
    "# Load the three relevant datasets into lists \n",
    "xs=PTNdata['P_logsumE_off_FS']\n",
    "ys=PTNdata['T_logsumE_off_FS']\n",
    "zs=PTNdata['N_logsumE_off_FS']"
   ]
  },
  {
   "cell_type": "markdown",
   "metadata": {},
   "source": [
    "# Visualization 1\n",
    "\n",
    "This is a 3D representation of the classifion according to the Gigydata. The <span style = \"color:green\"> **green triangles** </span> indicate the sounds classified as **Pulse sounds**, the <span style = \"color:red\"> **red circles ** </span> indicate the sound classified as **Noise sounds** and finally the <span style = \"color:blue\"> **blue squares** </span> indicate the **tone sounds**."
   ]
  },
  {
   "cell_type": "code",
   "execution_count": null,
   "metadata": {
    "collapsed": false
   },
   "outputs": [],
   "source": [
    "# Create figure with a subplot object with a 3D projection and set XYZ axis\n",
    "fig = plt.figure()\n",
    "ax = fig.add_subplot(111, projection='3d')\n",
    "zdirs = (None, 'x', 'y', 'z', (1, 1, 0), (1, 1, 1))\n",
    "\n",
    "# Create the 3D plot with different markers for three classifications\n",
    "for typecolor, typemarker  in [('r','o'),('g','^'),('b','s')]:\n",
    "    typerange=PTNdata['typecolors'][typecolor]\n",
    "    ax.scatter(xs[typerange],ys[typerange],zs[typerange], c=typecolor, marker=typemarker,s=48)\n",
    "\n",
    "# Set title and axis labels and show the 3D graph\n",
    "ax.set_title('3D representation of PTN values of Gigydata') \n",
    "ax.set_xlabel('Pulse ')\n",
    "ax.set_ylabel('Tone ')\n",
    "ax.set_zlabel('Noise ') \n",
    "plt.show()"
   ]
  },
  {
   "cell_type": "markdown",
   "metadata": {},
   "source": [
    "# Visualization 2\n",
    "\n",
    "In this visualization three histograms can be seen. Each represent the number of occurences for certain values of <span style = \"color:green\">Pulse </span>, <span style = \"color:red\"> Tone </span> or <span style = \"color:blue\"> Noise </span> datapoints. This representation of the data provides an overview of how each variable is distibuted. "
   ]
  },
  {
   "cell_type": "code",
   "execution_count": null,
   "metadata": {
    "collapsed": false
   },
   "outputs": [],
   "source": [
    "# Create a figure with three plot objects\n",
    "f, (ax1, ax2, ax3) = plt.subplots(3, sharey=True)\n",
    "\n",
    "# First subplot\n",
    "ax1.hist(xs, color = 'g')\n",
    "ax1.set_title('Occurences of pulse amplitudes')\n",
    "ax1.set_xlabel('pulse ')\n",
    "ax1.set_ylabel('Occurrences ')\n",
    "\n",
    "# Second subplot\n",
    "ax2.hist(ys, color = 'b')\n",
    "ax2.set_xlabel('Tone')\n",
    "ax2.set_ylabel('Occurences')\n",
    "\n",
    "# Thirds subplot\n",
    "ax3.hist(zs, color = 'r')\n",
    "ax3.set_xlabel('Noise')\n",
    "ax3.set_ylabel('Occurrences')\n",
    "        \n",
    "# Show figure with subplots\n",
    "f.show()"
   ]
  },
  {
   "cell_type": "markdown",
   "metadata": {
    "collapsed": true
   },
   "source": [
    "# Clustering\n",
    "\n",
    "In this script the unclustered data is plugged into a clustering script based on the K-mediod method that uses the Manhattan metric. The inputted data consists of the Pulse and Tone values of the datapoints. The output of this script is an object containing the clustered data."
   ]
  },
  {
   "cell_type": "code",
   "execution_count": null,
   "metadata": {
    "collapsed": false,
    "scrolled": true
   },
   "outputs": [],
   "source": [
    "from sklearn.metrics.pairwise import pairwise_distances\n",
    "import numpy as np\n",
    "# script from > Bauckhage C. Numpy/scipy Recipes for Data Science: k-Medoids Clustering[R]. Technical Report, University of Bonn, 2015.\n",
    "import kmedoids \n",
    "\n",
    "data = np.array([xs,ys]).T\n",
    "\n",
    "# distance matrix\n",
    "D = pairwise_distances(data, metric='manhattan')\n",
    "\n",
    "# split into 3 clusters\n",
    "M, C = kmedoids.kMedoids(D, 3)\n",
    "\n",
    "# split the clustered data object C into three lists with clustered datapoints\n",
    "cluster1 = data[C[0]]\n",
    "cluster2 = data[C[1]]\n",
    "cluster3 = data[C[2]]"
   ]
  },
  {
   "cell_type": "markdown",
   "metadata": {
    "collapsed": false
   },
   "source": [
    "# Visualization 3\n",
    "\n",
    "This visualization is a 2D scatter plot of the clustered data. The clusters are indicated by the same markers as in visualization 1. "
   ]
  },
  {
   "cell_type": "code",
   "execution_count": null,
   "metadata": {
    "collapsed": true
   },
   "outputs": [],
   "source": [
    "# create a figure \n",
    "fig = plt.figure()\n",
    "ax1 = fig.add_subplot(111)\n",
    "\n",
    "# add the three clusters to the figure with different markers\n",
    "ax1.set_xlabel('Pulse')\n",
    "ax1.set_ylabel('Tone')\n",
    "ax1.scatter(cluster1[:,0],cluster1[:,1], c='b', marker=\"^\", label='cluster 1')\n",
    "ax1.scatter(cluster2[:,0],cluster2[:,1], c='r', marker=\"o\", label='cluster 2')\n",
    "ax1.scatter(cluster3[:,0],cluster3[:,1], c='g', marker=\"s\", label='cluster 3')\n",
    "plt.legend(loc='upper left');\n",
    "plt.show()"
   ]
  },
  {
   "cell_type": "markdown",
   "metadata": {},
   "source": [
    "# Visualization 4\n",
    "\n",
    "This visualization can be used to compare the **origional classification** of the Gigydata with the output of the **clustering algorithm** above, shown in visualization 3. When comparing the two ......"
   ]
  },
  {
   "cell_type": "code",
   "execution_count": null,
   "metadata": {
    "collapsed": true
   },
   "outputs": [],
   "source": [
    "f=plt.figure(figsize=(16,6,))\n",
    "ax = f.add_subplot(1,1,1)\n",
    "\n",
    "\n",
    "for typecolor, typemarker  in [('r','o'),('g','^'),('b','s')]:\n",
    "    typerange=PTNdata['typecolors'][typecolor]\n",
    "    ax.scatter( xs[typerange],ys[typerange], c=typecolor, marker=typemarker,s=48)\n",
    "\n",
    "\n",
    "for label, x, y in zip(PTNdata['labels'], xs,ys):\n",
    "    ax.text(x, y, label[:3], None)    \n",
    "\n",
    "ax.set_xlabel('Pulse ')\n",
    "ax.set_ylabel('Tone ')\n",
    "plt.show()"
   ]
  },
  {
   "cell_type": "code",
   "execution_count": null,
   "metadata": {
    "collapsed": true
   },
   "outputs": [],
   "source": []
  },
  {
   "cell_type": "code",
   "execution_count": null,
   "metadata": {
    "collapsed": true
   },
   "outputs": [],
   "source": []
  },
  {
   "cell_type": "code",
   "execution_count": null,
   "metadata": {
    "collapsed": true
   },
   "outputs": [],
   "source": []
  },
  {
   "cell_type": "code",
   "execution_count": null,
   "metadata": {
    "collapsed": true
   },
   "outputs": [],
   "source": []
  }
 ],
 "metadata": {
  "kernelspec": {
   "display_name": "Python [Root]",
   "language": "python",
   "name": "Python [Root]"
  },
  "language_info": {
   "codemirror_mode": {
    "name": "ipython",
    "version": 2
   },
   "file_extension": ".py",
   "mimetype": "text/x-python",
   "name": "python",
   "nbconvert_exporter": "python",
   "pygments_lexer": "ipython2",
   "version": "2.7.12"
  }
 },
 "nbformat": 4,
 "nbformat_minor": 0
}
