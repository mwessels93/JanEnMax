{
 "cells": [
  {
   "cell_type": "code",
   "execution_count": 18,
   "metadata": {
    "collapsed": false,
    "scrolled": true
   },
   "outputs": [],
   "source": [
    "import numpy as np\n",
    "import os\n",
    "from mpl_toolkits.mplot3d import Axes3D\n",
    "from matplotlib import pyplot as plt\n",
    "\n",
    "# Import the data from the Gigydata folder\n",
    "npzfilename=os.path.join('/home/max/data/GygiAnalysis/AnalysisOfGygiDataset.npz')\n",
    "PTNdata= np.load(npzfilename) \n",
    "PTNdata=PTNdata['arr_0'].item()\n",
    "\n",
    "# Load the three relevant datasets into lists \n",
    "xs=PTNdata['P_logsumE_off_FS']\n",
    "ys=PTNdata['T_logsumE_off_FS']\n",
    "zs=PTNdata['N_logsumE_off_FS']"
   ]
  },
  {
   "cell_type": "markdown",
   "metadata": {},
   "source": [
    "# Visualization 1\n",
    "\n",
    "This is a 3D representation of the classifion according to the Gigydata. The <span style = \"color:green\"> **green triangles** </span> indicate the sounds classified as **Pulse sounds**, the <span style = \"color:red\"> **red circles ** </span> indicate the sound classified as **Noise sounds** and finally the <span style = \"color:blue\"> **blue squares** </span> indicate the **tone sounds**. This visualization provides a dynamic overview of how all datapoints are distributed along the PTN axes. "
   ]
  },
  {
   "cell_type": "code",
   "execution_count": 26,
   "metadata": {
    "collapsed": false
   },
   "outputs": [
    {
     "data": {
      "text/plain": [
       "<matplotlib.text.Text at 0x7fa6de584e90>"
      ]
     },
     "execution_count": 26,
     "metadata": {},
     "output_type": "execute_result"
    }
   ],
   "source": [
    "# Create figure with a subplot object with a 3D projection and set XYZ axis\n",
    "fig1 = plt.figure(1)\n",
    "vis1 = fig1.add_subplot(111, projection='3d')\n",
    "zdirs = (None, 'x', 'y', 'z', (1, 1, 0), (1, 1, 1))\n",
    "\n",
    "# Create the 3D plot with different markers for three classifications\n",
    "for typecolor, typemarker  in [('r','o'),('g','^'),('b','s')]:\n",
    "    typerange=PTNdata['typecolors'][typecolor]\n",
    "    vis1.scatter(xs[typerange],ys[typerange],zs[typerange], c=typecolor, marker=typemarker,s=48)\n",
    "\n",
    "# Set title and axis labels and show the 3D graph\n",
    "vis1.set_title('3D representation of PTN values of Gigydata') \n",
    "vis1.set_xlabel('Pulse ')\n",
    "vis1.set_ylabel('Tone ')\n",
    "vis1.set_zlabel('Noise ') \n",
    "\n",
    "# uncomment to show plot, close plot to continue script\n",
    "# plot.show()"
   ]
  },
  {
   "cell_type": "markdown",
   "metadata": {},
   "source": [
    "# Visualization 2\n",
    "\n",
    "In this visualization three histograms can be seen. Each represent the number of occurences for certain values of <span style = \"color:green\">Pulse </span>, <span style = \"color:red\"> Tone </span> or <span style = \"color:blue\"> Noise </span> datapoints. This representation of the data provides an overview of how each variable is distibuted. "
   ]
  },
  {
   "cell_type": "code",
   "execution_count": 38,
   "metadata": {
    "collapsed": false
   },
   "outputs": [],
   "source": [
    "# Create a figure with three plot objects\n",
    "fig2, (vis21, vis22, vis23) = plt.subplots(3, sharey=True)\n",
    "\n",
    "# First subplot\n",
    "vis21.hist(xs, bins='auto', color = 'g')\n",
    "vis21.set_title('Occurences of PTN amplitudes')\n",
    "vis21.set_xlabel('pulse ')\n",
    "vis21.set_ylabel('Occurrences ')\n",
    "\n",
    "# Second subplot\n",
    "vis22.hist(ys, bins='auto', color = 'b')\n",
    "vis22.set_xlabel('Tone')\n",
    "vis22.set_ylabel('Occurences')\n",
    "\n",
    "# Thirds subplot\n",
    "vis23.hist(zs, bins='auto', color = 'r')\n",
    "vis23.set_xlabel('Noise')\n",
    "vis23.set_ylabel('Occurrences')\n",
    "\n",
    "# uncomment to show plot, close plot to continue program\n",
    "# plt.show()"
   ]
  },
  {
   "cell_type": "markdown",
   "metadata": {
    "collapsed": true
   },
   "source": [
    "# Clustering\n",
    "\n",
    "In this script the unclustered data is plugged into a clustering script based on the **K-mediod** method that uses the **Manhattan metric**. The **Manhattan metric** is the simple sum of horizontal and vertical components. The inputted data consists of the Pulse and Tone values of the datapoints. The output of this script is an object containing the clustered data."
   ]
  },
  {
   "cell_type": "code",
   "execution_count": 33,
   "metadata": {
    "collapsed": false,
    "scrolled": true
   },
   "outputs": [],
   "source": [
    "from sklearn.metrics.pairwise import pairwise_distances\n",
    "import kmedoids \n",
    "\n",
    "# K-medoids script from:\n",
    "# Bauckhage C. Numpy/scipy Recipes for Data Science: k-Medoids Clustering[R]. Technical Report, University of Bonn, 2015.\n",
    "\n",
    "data = np.array([xs,ys]).T\n",
    "\n",
    "# distance matrix\n",
    "D = pairwise_distances(data, metric='manhattan')\n",
    "\n",
    "# split into 3 clusters\n",
    "M, C = kmedoids.kMedoids(D, 3)\n",
    "\n",
    "# split the clustered data object C into three lists with clustered datapoints\n",
    "cluster1 = data[C[0]]\n",
    "cluster2 = data[C[1]]\n",
    "cluster3 = data[C[2]]"
   ]
  },
  {
   "cell_type": "markdown",
   "metadata": {
    "collapsed": false
   },
   "source": [
    "# Visualization 3\n",
    "\n",
    "This visualization is a 2D scatter plot of the clustered data. As the initial mediods are chosen randomly, the cluster colors can change each time the script is run."
   ]
  },
  {
   "cell_type": "code",
   "execution_count": 34,
   "metadata": {
    "collapsed": false
   },
   "outputs": [
    {
     "data": {
      "text/plain": [
       "<matplotlib.text.Text at 0x7fa6dc562d90>"
      ]
     },
     "execution_count": 34,
     "metadata": {},
     "output_type": "execute_result"
    }
   ],
   "source": [
    "# create a figure \n",
    "fig3 = plt.figure(3)\n",
    "vis3 = fig3.add_subplot(111)\n",
    "\n",
    "# add the three clusters to the figure with different markers\n",
    "\n",
    "vis3.scatter(cluster1[:,0],cluster1[:,1], c='g', marker=\"^\", label='cluster 1', s=48)\n",
    "vis3.scatter(cluster2[:,0],cluster2[:,1], c='r', marker=\"o\", label='cluster 2', s=48)\n",
    "vis3.scatter(cluster3[:,0],cluster3[:,1], c='b', marker=\"s\", label='cluster 3', s=48)\n",
    "\n",
    "for label, x, y in zip(PTNdata['labels'], xs,ys):\n",
    "    vis3.text(x, y, label[:3], None)    \n",
    "\n",
    "plt.legend(loc='upper left');\n",
    "\n",
    "vis3.set_title('Scatter plot of clustered data')\n",
    "vis3.set_xlabel('Pulse')\n",
    "vis3.set_ylabel('Tone')\n",
    "\n",
    "# uncomment to show plot, close plot to continue program\n",
    "# plt.show()"
   ]
  },
  {
   "cell_type": "markdown",
   "metadata": {},
   "source": [
    "# Visualization 4\n",
    "\n",
    "This visualization can be used to compare the **origional classification** of the Gigydata with the output of the **clustering algorithm** above, shown in visualization 3.  \n"
   ]
  },
  {
   "cell_type": "code",
   "execution_count": 35,
   "metadata": {
    "collapsed": false
   },
   "outputs": [
    {
     "data": {
      "text/plain": [
       "<matplotlib.text.Text at 0x7fa6db3c1ed0>"
      ]
     },
     "execution_count": 35,
     "metadata": {},
     "output_type": "execute_result"
    }
   ],
   "source": [
    "fig4 = plt.figure(4, figsize=(16,6,))\n",
    "vis4 = fig4.add_subplot(1,1,1)\n",
    "\n",
    "for typecolor, typemarker  in [('r','o'),('g','^'),('b','s')]:\n",
    "    typerange=PTNdata['typecolors'][typecolor]\n",
    "    vis4.scatter(xs[typerange],ys[typerange], c=typecolor, marker=typemarker,s=48)\n",
    "\n",
    "\n",
    "for label, x, y in zip(PTNdata['labels'], xs,ys):\n",
    "    vis4.text(x, y, label[:3], None)    \n",
    "\n",
    "vis4.set_xlabel('Pulse ')\n",
    "vis4.set_ylabel('Tone ')\n",
    "vis4.set_title('2D representation of Gigydata analysis')\n",
    "\n",
    "# uncomment to show plot, close plot to continue program\n",
    "# plot.show()"
   ]
  },
  {
   "cell_type": "code",
   "execution_count": 31,
   "metadata": {
    "collapsed": false
   },
   "outputs": [],
   "source": [
    "plt.show()"
   ]
  },
  {
   "cell_type": "markdown",
   "metadata": {
    "collapsed": true
   },
   "source": [
    "# Conclusion\n",
    "\n",
    "Each time the clustering script is run, the sounds labelled 'ice', 'cou' and 'she' are within the same cluster. However, in the Gigydata analysis the three sounds are classified as Pulse, Tone and Noise sounds respectively. Furthermore, the sound labelled 'bub' is a clear outlayer. When comparing the results with Kevin and Danita, whom used the **K-means** method with **Euclidian** metric, the outcome is more of less similar. However, the bounds of the cluster vary between the two methods. "
   ]
  },
  {
   "cell_type": "code",
   "execution_count": null,
   "metadata": {
    "collapsed": true
   },
   "outputs": [],
   "source": []
  },
  {
   "cell_type": "code",
   "execution_count": null,
   "metadata": {
    "collapsed": true
   },
   "outputs": [],
   "source": []
  },
  {
   "cell_type": "code",
   "execution_count": null,
   "metadata": {
    "collapsed": true
   },
   "outputs": [],
   "source": []
  },
  {
   "cell_type": "code",
   "execution_count": null,
   "metadata": {
    "collapsed": true
   },
   "outputs": [],
   "source": []
  }
 ],
 "metadata": {
  "kernelspec": {
   "display_name": "Python [Root]",
   "language": "python",
   "name": "Python [Root]"
  },
  "language_info": {
   "codemirror_mode": {
    "name": "ipython",
    "version": 2
   },
   "file_extension": ".py",
   "mimetype": "text/x-python",
   "name": "python",
   "nbconvert_exporter": "python",
   "pygments_lexer": "ipython2",
   "version": "2.7.12"
  }
 },
 "nbformat": 4,
 "nbformat_minor": 0
}
