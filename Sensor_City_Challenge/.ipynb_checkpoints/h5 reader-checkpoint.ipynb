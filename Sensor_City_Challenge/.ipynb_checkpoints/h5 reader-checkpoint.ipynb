{
 "cells": [
  {
   "cell_type": "code",
   "execution_count": null,
   "metadata": {
    "collapsed": false
   },
   "outputs": [
    {
     "name": "stdout",
     "output_type": "stream",
     "text": [
      "('keys:', [u'energy', u'noise', u'pulse', u'tone'])\n",
      "('shape:', (22, 3827))\n"
     ]
    }
   ],
   "source": [
    "import numpy as np\n",
    "import h5py\n",
    "from matplotlib import pyplot as plt\n",
    "\n",
    "\n",
    "with h5py.File('/home/max/data/alarm againagain-201-AU-1-20161003_100000.wav.1.hdf5','r') as hf:\n",
    "    print('keys:', hf.keys())\n",
    "    \n",
    "    E = hf.get('energy')\n",
    "    N = hf.get('noise')\n",
    "    P = hf.get('pulse')\n",
    "    T = hf.get('tone')\n",
    "\n",
    "\n",
    "    Edata = np.array(E)\n",
    "    Ndata = np.array(N)\n",
    "    Pdata = np.array(P)\n",
    "    Tdata = np.array(T)\n",
    "    \n",
    "    print('shape:',Edata.shape)\n",
    "\n",
    "    \n",
    "F, (ax1, ax2, ax3, ax4) = plt.subplots(4, sharex=True)\n",
    "ax1.imshow(Edata, interpolation='nearest',aspect='auto')\n",
    "ax1.set_title('E')\n",
    "ax2.imshow(Ndata, interpolation='nearest',aspect='auto')\n",
    "ax2.set_title('N')\n",
    "ax3.imshow(Pdata, interpolation='nearest', aspect='auto')\n",
    "ax3.set_title('P')\n",
    "ax4.imshow(Tdata, interpolation='nearest', aspect='auto')\n",
    "ax4.set_title('T')\n",
    "\n",
    "plt.show()"
   ]
  },
  {
   "cell_type": "code",
   "execution_count": null,
   "metadata": {
    "collapsed": true
   },
   "outputs": [],
   "source": [
    "%run /home/Max/mysandbox/JanEnMax/Sensor City Challenge/soundannotatordemo/soundannotatordemo/projects/simple python soundAnnotator.py \\\n",
    "-PTNE --ptnblockwidth 0.1 --noofscales 100 --inputrate 96000 --outdir /home/data --decimation 2 --wav \\\n",
    "/home/data\n"
   ]
  },
  {
   "cell_type": "code",
   "execution_count": null,
   "metadata": {
    "collapsed": true
   },
   "outputs": [],
   "source": []
  }
 ],
 "metadata": {
  "kernelspec": {
   "display_name": "Python [Root]",
   "language": "python",
   "name": "Python [Root]"
  },
  "language_info": {
   "codemirror_mode": {
    "name": "ipython",
    "version": 2
   },
   "file_extension": ".py",
   "mimetype": "text/x-python",
   "name": "python",
   "nbconvert_exporter": "python",
   "pygments_lexer": "ipython2",
   "version": "2.7.12"
  }
 },
 "nbformat": 4,
 "nbformat_minor": 0
}
