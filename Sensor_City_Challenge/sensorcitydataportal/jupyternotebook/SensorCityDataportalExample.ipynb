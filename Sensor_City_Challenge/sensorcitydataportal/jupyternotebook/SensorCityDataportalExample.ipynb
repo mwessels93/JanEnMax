{
 "cells": [
  {
   "cell_type": "markdown",
   "metadata": {},
   "source": [
    "Set the url's for the SensorCity dataportal:"
   ]
  },
  {
   "cell_type": "code",
   "execution_count": 4,
   "metadata": {
    "collapsed": true
   },
   "outputs": [],
   "source": [
    "scdp_newjob_url='http://sensorcity-api.kxa.nl/newjob'\n",
    "scdp_status_url='http://sensorcity-api.kxa.nl/status'\n",
    "scdp_download_url='http://sensorcity-api.kxa.nl/download'"
   ]
  },
  {
   "cell_type": "markdown",
   "metadata": {},
   "source": [
    "Get login credentials from the user:"
   ]
  },
  {
   "cell_type": "code",
   "execution_count": 2,
   "metadata": {
    "collapsed": false
   },
   "outputs": [
    {
     "name": "stdout",
     "output_type": "stream",
     "text": [
      "User name: ········\n",
      "User password: ········\n"
     ]
    }
   ],
   "source": [
    "import getpass\n",
    "scdp_user=getpass.getpass('User name: ')\n",
    "scdp_pw=getpass.getpass('User password: ')"
   ]
  },
  {
   "cell_type": "markdown",
   "metadata": {},
   "source": [
    "Prepare json data defining the data to be retrieved from the dataportal:"
   ]
  },
  {
   "cell_type": "code",
   "execution_count": null,
   "metadata": {
    "collapsed": true
   },
   "outputs": [],
   "source": [
    "# get modules for internet communication and time management\n",
    "import json\n",
    "import urllib2\n",
    "import time"
   ]
  },
  {
   "cell_type": "code",
   "execution_count": 34,
   "metadata": {
    "collapsed": false
   },
   "outputs": [
    {
     "name": "stdout",
     "output_type": "stream",
     "text": [
      "The job id for this query is: 1803813\n"
     ]
    }
   ],
   "source": [
    "'''\n",
    " Define the database query and send it to the dataportal \n",
    "'''\n",
    "\n",
    "# Create a json string containing the query\n",
    "query_string=json.dumps(\n",
    "{\n",
    "    \"username\": scdp_user,\n",
    "    \"password\": scdp_pw,\n",
    "    \"job\": {\n",
    "    \"name\": \"weather-data-export-test\",\n",
    "    \"datetime-start\": \"2016-sep-10 10:00:00\",\n",
    "    \"datetime-end\": \"2016-sep-11 10:01:00\",\n",
    "    \"type\":\"weather\",\n",
    "    \"sensors\": [\"006-WE-1\",]\n",
    "    \n",
    "  }\n",
    "  \n",
    "})\n",
    "\n",
    "# calculate the length of the json string, this is needed for the webrequest\n",
    "query_length = len(query_string)\n",
    "\n",
    "# build the webrequest ... \n",
    "req = urllib2.Request(scdp_newjob_url, query_string, {'Content-Type': 'application/json', 'Content-Length': query_length})\n",
    "\n",
    "# ... and send the webrequest to the data portal\n",
    "f = urllib2.urlopen(req)\n",
    "\n",
    "# ... process the returned data\n",
    "response = f.read()\n",
    "f.close()\n",
    "\n",
    "# Get job-id and store it to upload the requested data later\n",
    "response_dict=json.loads(response)\n",
    "jobid=response_dict[u'job'][u'job-id']\n",
    "\n",
    "print('The job id for this query is: {0}'.format(jobid))\n"
   ]
  },
  {
   "cell_type": "markdown",
   "metadata": {},
   "source": [
    "Watch the dataportal for finalization of the job, and then when it is done download the data."
   ]
  },
  {
   "cell_type": "code",
   "execution_count": 43,
   "metadata": {
    "collapsed": false
   },
   "outputs": [
    {
     "name": "stdout",
     "output_type": "stream",
     "text": [
      "\n"
     ]
    }
   ],
   "source": [
    "''' Check the status of the job keep polling untill it is finished '''\n",
    "\n",
    "\n",
    "# Create a json string containing the query\n",
    "\n",
    "query_string=json.dumps(\n",
    "{\n",
    "    \"username\": scdp_user,\n",
    "    \"password\": scdp_pw,\n",
    "    \"job-id\": jobid\n",
    "  }\n",
    ")\n",
    "\n",
    "# calculate the length of the json string, this is needed for the webrequest\n",
    "query_length = len(query_string)\n",
    "\n",
    "# Do the polling  \n",
    "waiting=True\n",
    "while waiting:\n",
    "        # build the webrequest ... \n",
    "        req = urllib2.Request(scdp_status_url, query_string, {'Content-Type': 'application/json', 'Content-Length': query_length})\n",
    "        # ... and send the webrequest to the data portal\n",
    "        f = urllib2.urlopen(req)\n",
    "        # ... process the returned data\n",
    "        status = f.read()\n",
    "        f.close()\n",
    "        status_dict=json.loads(status)\n",
    "        if status_dict[u'job'][u'status'] == 'finished':\n",
    "            waiting=False\n",
    "        else:\n",
    "            print status_dict[u'job'][u'status']\n",
    "            time.sleep(3)  \n",
    "            \n",
    "            \n",
    "''' Download the data '''\n",
    "\n",
    "# calculate the length of the json string, this is needed for the webrequest\n",
    "query_length = len(query_string)\n",
    "\n",
    "# build the webrequest ... \n",
    "req = urllib2.Request(scdp_download_url, query_string, {'Content-Type': 'application/json', 'Content-Length': query_length})\n",
    "\n",
    "try:\n",
    "    # ... and send the webrequest to the data portal\n",
    "    f = urllib2.urlopen(req)\n",
    "    \n",
    "    # ... process the returned data\n",
    "    # Creating a zip-file this way seens to work only on linux.\n",
    "    zipfile = open('weather2today.zip','w')\n",
    "    zipfile.write(f.read())\n",
    "    zipfile.close()\n",
    "    f.close()\n",
    "    \n",
    "#handle errors\n",
    "except urllib2.HTTPError, e:\n",
    "    print \"HTTP Error:\", e.code, url\n",
    "except urllib2.URLError, e:\n",
    "    print \"URL Error:\", e.reason, url"
   ]
  },
  {
   "cell_type": "code",
   "execution_count": 29,
   "metadata": {
    "collapsed": false
   },
   "outputs": [],
   "source": []
  }
 ],
 "metadata": {
  "anaconda-cloud": {},
  "kernelspec": {
   "display_name": "Python [Root]",
   "language": "python",
   "name": "Python [Root]"
  },
  "language_info": {
   "codemirror_mode": {
    "name": "ipython",
    "version": 2
   },
   "file_extension": ".py",
   "mimetype": "text/x-python",
   "name": "python",
   "nbconvert_exporter": "python",
   "pygments_lexer": "ipython2",
   "version": "2.7.12"
  }
 },
 "nbformat": 4,
 "nbformat_minor": 0
}
